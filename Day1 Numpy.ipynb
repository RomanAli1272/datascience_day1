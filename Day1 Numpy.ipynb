{
 "cells": [
  {
   "cell_type": "code",
   "execution_count": 1,
   "id": "3102f8aa",
   "metadata": {},
   "outputs": [],
   "source": [
    "import numpy as np"
   ]
  },
  {
   "cell_type": "markdown",
   "id": "cecd2998",
   "metadata": {},
   "source": [
    "## Create a 1D NumPy array from a Python list of integers."
   ]
  },
  {
   "cell_type": "code",
   "execution_count": 2,
   "id": "8688ad2f",
   "metadata": {},
   "outputs": [
    {
     "data": {
      "text/plain": [
       "array([1, 2, 3, 4, 5])"
      ]
     },
     "execution_count": 2,
     "metadata": {},
     "output_type": "execute_result"
    }
   ],
   "source": [
    "list = [1,2,3,4,5]\n",
    "arr = np.array(list)\n",
    "arr"
   ]
  },
  {
   "cell_type": "markdown",
   "id": "166eaede",
   "metadata": {},
   "source": [
    "## Create a 2D array with dimensions 3x3 filled with zeros."
   ]
  },
  {
   "cell_type": "code",
   "execution_count": 3,
   "id": "52f0ab66",
   "metadata": {},
   "outputs": [
    {
     "data": {
      "text/plain": [
       "array([[0., 0., 0.],\n",
       "       [0., 0., 0.],\n",
       "       [0., 0., 0.]])"
      ]
     },
     "execution_count": 3,
     "metadata": {},
     "output_type": "execute_result"
    }
   ],
   "source": [
    "arr1 = np.zeros((3,3))\n",
    "arr1"
   ]
  },
  {
   "cell_type": "markdown",
   "id": "684cb189",
   "metadata": {},
   "source": [
    "## Create an array filled with ones, of shape (2, 5)"
   ]
  },
  {
   "cell_type": "code",
   "execution_count": 4,
   "id": "00e9d0e3",
   "metadata": {},
   "outputs": [
    {
     "data": {
      "text/plain": [
       "array([[1., 1., 1., 1., 1.],\n",
       "       [1., 1., 1., 1., 1.]])"
      ]
     },
     "execution_count": 4,
     "metadata": {},
     "output_type": "execute_result"
    }
   ],
   "source": [
    "arr2 = np.ones((2,5))\n",
    "arr2"
   ]
  },
  {
   "cell_type": "markdown",
   "id": "81796acb",
   "metadata": {},
   "source": [
    "## Generate an array of numbers from 10 to 20 with a step size of 2."
   ]
  },
  {
   "cell_type": "code",
   "execution_count": 5,
   "id": "48b00b07",
   "metadata": {},
   "outputs": [
    {
     "data": {
      "text/plain": [
       "array([10, 11, 12, 13, 14, 15, 16, 17, 18, 19, 20])"
      ]
     },
     "execution_count": 5,
     "metadata": {},
     "output_type": "execute_result"
    }
   ],
   "source": [
    "arr3 = np.arange(10,21)\n",
    "arr3"
   ]
  },
  {
   "cell_type": "markdown",
   "id": "ab73aa39",
   "metadata": {},
   "source": [
    "## Create a 5x5 identity matrix using NumPy."
   ]
  },
  {
   "cell_type": "code",
   "execution_count": 6,
   "id": "6b7d90aa",
   "metadata": {},
   "outputs": [
    {
     "data": {
      "text/plain": [
       "array([[1., 0., 0., 0., 0.],\n",
       "       [0., 1., 0., 0., 0.],\n",
       "       [0., 0., 1., 0., 0.],\n",
       "       [0., 0., 0., 1., 0.],\n",
       "       [0., 0., 0., 0., 1.]])"
      ]
     },
     "execution_count": 6,
     "metadata": {},
     "output_type": "execute_result"
    }
   ],
   "source": [
    "arr4 = np.identity(5)\n",
    "arr4"
   ]
  },
  {
   "cell_type": "markdown",
   "id": "45586ec9",
   "metadata": {},
   "source": [
    "## Generate a random array of shape (3, 3) with values between 0 and 1."
   ]
  },
  {
   "cell_type": "code",
   "execution_count": 7,
   "id": "c446faa8",
   "metadata": {},
   "outputs": [
    {
     "data": {
      "text/plain": [
       "array([[0.61398531, 0.31822636, 0.40259915],\n",
       "       [0.89434676, 0.84339346, 0.06316171],\n",
       "       [0.08162258, 0.34137775, 0.71613148]])"
      ]
     },
     "execution_count": 7,
     "metadata": {},
     "output_type": "execute_result"
    }
   ],
   "source": [
    "arr5 = np.random.rand(3,3)\n",
    "arr5"
   ]
  },
  {
   "cell_type": "markdown",
   "id": "20d4e443",
   "metadata": {},
   "source": [
    "## Create a 3x4 array of random integers between 1 and 50."
   ]
  },
  {
   "cell_type": "code",
   "execution_count": 8,
   "id": "d1c390e1",
   "metadata": {},
   "outputs": [
    {
     "data": {
      "text/plain": [
       "array([[11, 27,  5, 33],\n",
       "       [26, 10, 18, 34],\n",
       "       [29, 31, 24, 29]])"
      ]
     },
     "execution_count": 8,
     "metadata": {},
     "output_type": "execute_result"
    }
   ],
   "source": [
    "arr6 = np.random.randint(1,50,size=(3,4))\n",
    "arr6"
   ]
  },
  {
   "cell_type": "markdown",
   "id": "f37775f0",
   "metadata": {},
   "source": [
    "## Change the shape of a 1D array into a 2D array."
   ]
  },
  {
   "cell_type": "code",
   "execution_count": 9,
   "id": "dccb79c3",
   "metadata": {},
   "outputs": [
    {
     "name": "stdout",
     "output_type": "stream",
     "text": [
      "[1 2 3 4]\n",
      "[[1 2]\n",
      " [3 4]]\n"
     ]
    }
   ],
   "source": [
    "arr7 = np.array([1,2,3,4])\n",
    "print(arr7)\n",
    "arr8 = arr7.reshape(2,2)\n",
    "print(arr8)"
   ]
  },
  {
   "cell_type": "markdown",
   "id": "bf15721b",
   "metadata": {},
   "source": [
    "## Find the mean, median, and standard deviation of an array."
   ]
  },
  {
   "cell_type": "code",
   "execution_count": 10,
   "id": "8712c9c0",
   "metadata": {},
   "outputs": [
    {
     "name": "stdout",
     "output_type": "stream",
     "text": [
      "Mean of arr by both method 25.0 25.0\n"
     ]
    }
   ],
   "source": [
    "arr9 = np.arange(1,50)\n",
    "mean = arr9.mean()\n",
    "std = arr9.std()\n",
    "med = np.median(arr9)\n",
    "mean1 = np.mean(arr9)\n",
    "std1 = np.std(arr9)\n",
    "print('Mean of arr by both method', mean,mean1)"
   ]
  },
  {
   "cell_type": "markdown",
   "id": "23759e18",
   "metadata": {},
   "source": [
    "## Generate a random array of shape (4, 5) and find the minimum and maximum values."
   ]
  },
  {
   "cell_type": "code",
   "execution_count": 11,
   "id": "03fe193b",
   "metadata": {},
   "outputs": [
    {
     "name": "stdout",
     "output_type": "stream",
     "text": [
      "maximum is 9 and minimum is 1\n"
     ]
    }
   ],
   "source": [
    "arr10 = np.random.randint(1,10,size =(4,5))\n",
    "maxi = np.max(arr10)\n",
    "mini = np.min(arr10)\n",
    "print(f'maximum is {maxi} and minimum is {mini}')"
   ]
  },
  {
   "cell_type": "markdown",
   "id": "aa72eda2",
   "metadata": {},
   "source": [
    "## Add two NumPy arrays element-wise"
   ]
  },
  {
   "cell_type": "code",
   "execution_count": 12,
   "id": "8de5a6d8",
   "metadata": {},
   "outputs": [
    {
     "data": {
      "text/plain": [
       "array([[2, 4],\n",
       "       [6, 8]])"
      ]
     },
     "execution_count": 12,
     "metadata": {},
     "output_type": "execute_result"
    }
   ],
   "source": [
    "arr11 = arr3+arr3\n",
    "arr12 = arr8+arr8\n",
    "arr12"
   ]
  },
  {
   "cell_type": "markdown",
   "id": "deef0bfa",
   "metadata": {},
   "source": [
    "## Multiply two NumPy arrays element-wise.\n"
   ]
  },
  {
   "cell_type": "code",
   "execution_count": 13,
   "id": "741bf2e0",
   "metadata": {},
   "outputs": [
    {
     "data": {
      "text/plain": [
       "array([[ 1,  4],\n",
       "       [ 9, 16]])"
      ]
     },
     "execution_count": 13,
     "metadata": {},
     "output_type": "execute_result"
    }
   ],
   "source": [
    "arr13 = arr3*arr3\n",
    "arr14 = arr8*arr8\n",
    "arr14"
   ]
  },
  {
   "cell_type": "markdown",
   "id": "8c06b895",
   "metadata": {},
   "source": [
    "## Perform matrix multiplication between two 2D arrays"
   ]
  },
  {
   "cell_type": "code",
   "execution_count": 14,
   "id": "01de373d",
   "metadata": {},
   "outputs": [
    {
     "data": {
      "text/plain": [
       "array([[ 7, 10],\n",
       "       [15, 22]])"
      ]
     },
     "execution_count": 14,
     "metadata": {},
     "output_type": "execute_result"
    }
   ],
   "source": [
    "arr15 = np.dot(arr8,arr8)\n",
    "arr15"
   ]
  },
  {
   "cell_type": "markdown",
   "id": "e7e205f8",
   "metadata": {},
   "source": [
    "## Create a diagonal matrix with specified values.\n"
   ]
  },
  {
   "cell_type": "code",
   "execution_count": 15,
   "id": "e9e9acfa",
   "metadata": {},
   "outputs": [
    {
     "data": {
      "text/plain": [
       "array([[1, 0, 0],\n",
       "       [0, 2, 0],\n",
       "       [0, 0, 3]])"
      ]
     },
     "execution_count": 15,
     "metadata": {},
     "output_type": "execute_result"
    }
   ],
   "source": [
    "arr16 = np.diag([1,2,3])\n",
    "arr16"
   ]
  },
  {
   "cell_type": "markdown",
   "id": "c1017ee6",
   "metadata": {},
   "source": [
    "## Extract all elements from an array that are greater than a specific value."
   ]
  },
  {
   "cell_type": "code",
   "execution_count": 16,
   "id": "27b20377",
   "metadata": {},
   "outputs": [
    {
     "name": "stdout",
     "output_type": "stream",
     "text": [
      "[[ 6 14  4  5  4]\n",
      " [ 7  8  8  6 14]\n",
      " [ 4  4  3 12 10]\n",
      " [13 12  5  3  9]\n",
      " [ 2 12 11  2  1]]\n"
     ]
    },
    {
     "data": {
      "text/plain": [
       "array([ 6, 14,  5,  7,  8,  8,  6, 14, 12, 10, 13, 12,  5,  9, 12, 11])"
      ]
     },
     "execution_count": 16,
     "metadata": {},
     "output_type": "execute_result"
    }
   ],
   "source": [
    "arr17=np.random.randint(1,15,size=(5,5))\n",
    "print(arr17)\n",
    "arr17[(arr17>4)]"
   ]
  },
  {
   "cell_type": "markdown",
   "id": "6d47e950",
   "metadata": {},
   "source": [
    "## Replace all negative values in an array with zeros."
   ]
  },
  {
   "cell_type": "code",
   "execution_count": 17,
   "id": "34d04a99",
   "metadata": {},
   "outputs": [
    {
     "data": {
      "text/plain": [
       "array([1, 2, 4, 0, 9, 0, 8, 0])"
      ]
     },
     "execution_count": 17,
     "metadata": {},
     "output_type": "execute_result"
    }
   ],
   "source": [
    "arr18 = np.array([1,2,4,-1,9,-9,8,-8])\n",
    "arr18[arr18<0] = 0\n",
    "arr18"
   ]
  },
  {
   "cell_type": "markdown",
   "id": "fd44ca35",
   "metadata": {},
   "source": [
    "## Flatten a multi-dimensional array into a 1D array."
   ]
  },
  {
   "cell_type": "code",
   "execution_count": 18,
   "id": "8e25dc13",
   "metadata": {},
   "outputs": [
    {
     "data": {
      "text/plain": [
       "array([1, 2, 3, 1, 2, 3])"
      ]
     },
     "execution_count": 18,
     "metadata": {},
     "output_type": "execute_result"
    }
   ],
   "source": [
    "arr19 = np.array([[1,2,3],[1,2,3]])\n",
    "arr19.ndim\n",
    "#So it is a 2d array\n",
    "arr19.flatten()"
   ]
  },
  {
   "cell_type": "markdown",
   "id": "64cc44c2",
   "metadata": {},
   "source": [
    "## Stack two arrays vertically"
   ]
  },
  {
   "cell_type": "code",
   "execution_count": 19,
   "id": "2061ba14",
   "metadata": {},
   "outputs": [
    {
     "data": {
      "text/plain": [
       "array([[1, 2, 3],\n",
       "       [4, 5, 6]])"
      ]
     },
     "execution_count": 19,
     "metadata": {},
     "output_type": "execute_result"
    }
   ],
   "source": [
    "arr20a = np.array([1,2,3])\n",
    "arr20b = np.array([4,5,6])\n",
    "arr20 = np.vstack((arr20a,arr20b))\n",
    "arr20"
   ]
  },
  {
   "cell_type": "markdown",
   "id": "08e85ea7",
   "metadata": {},
   "source": [
    "## Stack two arrays horizontally."
   ]
  },
  {
   "cell_type": "code",
   "execution_count": 20,
   "id": "e7319de3",
   "metadata": {},
   "outputs": [
    {
     "data": {
      "text/plain": [
       "array([1, 2, 3, 4, 5, 6])"
      ]
     },
     "execution_count": 20,
     "metadata": {},
     "output_type": "execute_result"
    }
   ],
   "source": [
    "arr21 = np.hstack((arr20a,arr20b))\n",
    "arr21"
   ]
  },
  {
   "cell_type": "markdown",
   "id": "32a7f63b",
   "metadata": {},
   "source": [
    "## Transpose a 2D array."
   ]
  },
  {
   "cell_type": "code",
   "execution_count": 21,
   "id": "42013c35",
   "metadata": {},
   "outputs": [
    {
     "name": "stdout",
     "output_type": "stream",
     "text": [
      "2\n"
     ]
    },
    {
     "data": {
      "text/plain": [
       "array([[1, 4],\n",
       "       [2, 5],\n",
       "       [3, 6]])"
      ]
     },
     "execution_count": 21,
     "metadata": {},
     "output_type": "execute_result"
    }
   ],
   "source": [
    "print(arr20.ndim)\n",
    "arr22 = np.transpose(arr20)\n",
    "arr22"
   ]
  },
  {
   "cell_type": "markdown",
   "id": "346234d2",
   "metadata": {},
   "source": [
    "## Create an array of 10 equally spaced values between 1 and 100."
   ]
  },
  {
   "cell_type": "code",
   "execution_count": 22,
   "id": "c4d7800b",
   "metadata": {},
   "outputs": [
    {
     "data": {
      "text/plain": [
       "array([ 1, 11, 21, 31, 41, 51, 61, 71, 81, 91])"
      ]
     },
     "execution_count": 22,
     "metadata": {},
     "output_type": "execute_result"
    }
   ],
   "source": [
    "arr23 = np.arange(1,100,10)\n",
    "arr23"
   ]
  },
  {
   "cell_type": "markdown",
   "id": "8bed9992",
   "metadata": {},
   "source": [
    "## Sort a NumPy array in ascending order."
   ]
  },
  {
   "cell_type": "code",
   "execution_count": 23,
   "id": "b389816d",
   "metadata": {},
   "outputs": [
    {
     "data": {
      "text/plain": [
       "array([[ 4,  4,  5,  6, 14],\n",
       "       [ 6,  7,  8,  8, 14],\n",
       "       [ 3,  4,  4, 10, 12],\n",
       "       [ 3,  5,  9, 12, 13],\n",
       "       [ 1,  2,  2, 11, 12]])"
      ]
     },
     "execution_count": 23,
     "metadata": {},
     "output_type": "execute_result"
    }
   ],
   "source": [
    "arr24 = np.sort(arr17,axis=-1)\n",
    "arr24"
   ]
  },
  {
   "cell_type": "markdown",
   "id": "6ee6cc01",
   "metadata": {},
   "source": [
    "## Reverse the order of elements in an array."
   ]
  },
  {
   "cell_type": "code",
   "execution_count": 24,
   "id": "7979fe0b",
   "metadata": {},
   "outputs": [
    {
     "data": {
      "text/plain": [
       "array([91, 81, 71, 61, 51, 41, 31, 21, 11,  1])"
      ]
     },
     "execution_count": 24,
     "metadata": {},
     "output_type": "execute_result"
    }
   ],
   "source": [
    "arr25 = np.flip(arr23)\n",
    "arr25 "
   ]
  },
  {
   "cell_type": "markdown",
   "id": "ac23b080",
   "metadata": {},
   "source": [
    "## Use slicing to extract specific rows and columns from a 2D array.\n"
   ]
  },
  {
   "cell_type": "code",
   "execution_count": 25,
   "id": "9361706d",
   "metadata": {},
   "outputs": [
    {
     "data": {
      "text/plain": [
       "12"
      ]
     },
     "execution_count": 25,
     "metadata": {},
     "output_type": "execute_result"
    }
   ],
   "source": [
    "#We are getting 4th element of 4th column\n",
    "arr24[3][3]"
   ]
  },
  {
   "cell_type": "markdown",
   "id": "b5e77f22",
   "metadata": {},
   "source": [
    "## Find the dot product of two vectors."
   ]
  },
  {
   "cell_type": "code",
   "execution_count": 26,
   "id": "64ed5ece",
   "metadata": {},
   "outputs": [
    {
     "data": {
      "text/plain": [
       "array([[29]])"
      ]
     },
     "execution_count": 26,
     "metadata": {},
     "output_type": "execute_result"
    }
   ],
   "source": [
    "arr26a = [1,2,3]\n",
    "arr26b = [[[4],[5],[5]]]\n",
    "arr26 = np.dot(arr26a,arr26b)\n",
    "arr26"
   ]
  },
  {
   "cell_type": "markdown",
   "id": "327121cc",
   "metadata": {},
   "source": [
    "## Calculate the sum along the rows of a 2D array."
   ]
  },
  {
   "cell_type": "code",
   "execution_count": 27,
   "id": "06b8673c",
   "metadata": {},
   "outputs": [
    {
     "data": {
      "text/plain": [
       "array([5, 7, 9])"
      ]
     },
     "execution_count": 27,
     "metadata": {},
     "output_type": "execute_result"
    }
   ],
   "source": [
    "arr27a = np.array([[1,2,3],[4,5,6]])\n",
    "arr27 = np.sum(arr27a,axis=0)\n",
    "arr27"
   ]
  },
  {
   "cell_type": "markdown",
   "id": "2f8dec00",
   "metadata": {},
   "source": [
    "## Calculate the sum along the columns of a 2D array."
   ]
  },
  {
   "cell_type": "code",
   "execution_count": 28,
   "id": "05f69f8c",
   "metadata": {},
   "outputs": [
    {
     "data": {
      "text/plain": [
       "array([ 6, 15])"
      ]
     },
     "execution_count": 28,
     "metadata": {},
     "output_type": "execute_result"
    }
   ],
   "source": [
    "arr28 = np.sum(arr27a,axis=1)\n",
    "arr28"
   ]
  },
  {
   "cell_type": "markdown",
   "id": "34d3ccbe",
   "metadata": {},
   "source": [
    "## Generate a random permutation of an array."
   ]
  },
  {
   "cell_type": "code",
   "execution_count": 29,
   "id": "a8151c59",
   "metadata": {},
   "outputs": [
    {
     "data": {
      "text/plain": [
       "array([[4, 5, 6],\n",
       "       [1, 2, 3]])"
      ]
     },
     "execution_count": 29,
     "metadata": {},
     "output_type": "execute_result"
    }
   ],
   "source": [
    "arr29 = np.random.permutation(arr27a)\n",
    "arr29"
   ]
  },
  {
   "cell_type": "markdown",
   "id": "61470528",
   "metadata": {},
   "source": [
    "## Find the cumulative sum of elements in an array.\n"
   ]
  },
  {
   "cell_type": "code",
   "execution_count": 30,
   "id": "7ec7b5c1",
   "metadata": {},
   "outputs": [
    {
     "data": {
      "text/plain": [
       "array([ 4,  9, 15, 16, 18, 21])"
      ]
     },
     "execution_count": 30,
     "metadata": {},
     "output_type": "execute_result"
    }
   ],
   "source": [
    "arr29.cumsum()"
   ]
  },
  {
   "cell_type": "markdown",
   "id": "cd38a689",
   "metadata": {},
   "source": [
    "## Compute the element-wise absolute values of an array."
   ]
  },
  {
   "cell_type": "code",
   "execution_count": 31,
   "id": "a38df471",
   "metadata": {},
   "outputs": [
    {
     "data": {
      "text/plain": [
       "array([[4., 5., 6.],\n",
       "       [1., 2., 3.]])"
      ]
     },
     "execution_count": 31,
     "metadata": {},
     "output_type": "execute_result"
    }
   ],
   "source": [
    "arr30=np.fabs(arr29)\n",
    "arr30"
   ]
  },
  {
   "cell_type": "markdown",
   "id": "3e85c201",
   "metadata": {},
   "source": [
    "## Use NumPy to simulate a dice roll (random integers from 1 to 6).\n"
   ]
  },
  {
   "cell_type": "code",
   "execution_count": 32,
   "id": "f53aa4f2",
   "metadata": {},
   "outputs": [
    {
     "data": {
      "text/plain": [
       "5"
      ]
     },
     "execution_count": 32,
     "metadata": {},
     "output_type": "execute_result"
    }
   ],
   "source": [
    "arr31 = np.random.randint(1,6)\n",
    "arr31"
   ]
  },
  {
   "cell_type": "markdown",
   "id": "1a83922e",
   "metadata": {},
   "source": [
    "## Create a boolean mask that returns True for even numbers in an array.\n"
   ]
  },
  {
   "cell_type": "code",
   "execution_count": 33,
   "id": "25e5b266",
   "metadata": {},
   "outputs": [
    {
     "data": {
      "text/plain": [
       "array([False,  True, False,  True, False,  True, False,  True, False,\n",
       "        True])"
      ]
     },
     "execution_count": 33,
     "metadata": {},
     "output_type": "execute_result"
    }
   ],
   "source": [
    "arr32 = np.array([1,2,3,4,5,6,7,8,9,10])\n",
    "arr32%2==0"
   ]
  },
  {
   "cell_type": "markdown",
   "id": "e54d3fc8",
   "metadata": {},
   "source": [
    "## Find the index of the maximum value in an array."
   ]
  },
  {
   "cell_type": "code",
   "execution_count": 34,
   "id": "8ac4c700",
   "metadata": {},
   "outputs": [
    {
     "data": {
      "text/plain": [
       "7"
      ]
     },
     "execution_count": 34,
     "metadata": {},
     "output_type": "execute_result"
    }
   ],
   "source": [
    "arr6.argmax()"
   ]
  },
  {
   "cell_type": "markdown",
   "id": "056c060e",
   "metadata": {},
   "source": [
    "## Check if all elements in an array are non-zero."
   ]
  },
  {
   "cell_type": "code",
   "execution_count": 35,
   "id": "4eb12c47",
   "metadata": {},
   "outputs": [
    {
     "data": {
      "text/plain": [
       "True"
      ]
     },
     "execution_count": 35,
     "metadata": {},
     "output_type": "execute_result"
    }
   ],
   "source": [
    "np.any(arr32)"
   ]
  },
  {
   "cell_type": "markdown",
   "id": "beb66904",
   "metadata": {},
   "source": [
    "## Generate a 3D array of shape (2, 2, 2) with random values.\n"
   ]
  },
  {
   "cell_type": "code",
   "execution_count": 36,
   "id": "605bf247",
   "metadata": {},
   "outputs": [
    {
     "data": {
      "text/plain": [
       "array([[[0.86489142, 0.44583777],\n",
       "        [0.66903572, 0.4947957 ]],\n",
       "\n",
       "       [[0.24223785, 0.25401654],\n",
       "        [0.53625272, 0.60071881]]])"
      ]
     },
     "execution_count": 36,
     "metadata": {},
     "output_type": "execute_result"
    }
   ],
   "source": [
    "arr33 = np.random.rand(2,2,2)\n",
    "arr33"
   ]
  },
  {
   "cell_type": "markdown",
   "id": "a1fe3775",
   "metadata": {},
   "source": [
    "## Normalize an array (i.e., bring the values between 0 and 1).\n"
   ]
  },
  {
   "cell_type": "code",
   "execution_count": 37,
   "id": "a95fae79",
   "metadata": {},
   "outputs": [
    {
     "data": {
      "text/plain": [
       "array([0.        , 0.33333333, 0.66666667, 1.        ])"
      ]
     },
     "execution_count": 37,
     "metadata": {},
     "output_type": "execute_result"
    }
   ],
   "source": [
    "arr34 = np.array([5,6,7,8])\n",
    "minim = np.min(arr34)\n",
    "maxim = np.max(arr34)\n",
    "nor = (arr34-minim)/(maxim-minim)\n",
    "nor"
   ]
  },
  {
   "cell_type": "code",
   "execution_count": null,
   "id": "9671ca85",
   "metadata": {},
   "outputs": [],
   "source": []
  }
 ],
 "metadata": {
  "kernelspec": {
   "display_name": "Python 3 (ipykernel)",
   "language": "python",
   "name": "python3"
  },
  "language_info": {
   "codemirror_mode": {
    "name": "ipython",
    "version": 3
   },
   "file_extension": ".py",
   "mimetype": "text/x-python",
   "name": "python",
   "nbconvert_exporter": "python",
   "pygments_lexer": "ipython3",
   "version": "3.10.12"
  }
 },
 "nbformat": 4,
 "nbformat_minor": 5
}
